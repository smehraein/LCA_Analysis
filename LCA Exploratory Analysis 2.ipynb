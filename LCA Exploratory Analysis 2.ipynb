{
 "cells": [
  {
   "cell_type": "markdown",
   "metadata": {},
   "source": [
    "# LCA Exploratory Analysis 2 - Hiring: Who, where, and what?"
   ]
  },
  {
   "cell_type": "markdown",
   "metadata": {},
   "source": [
    "I've looked at the wages and identified some patterns, but I'm also curious about which companies are sending the most applications and which states are receiving the most potential immigrants."
   ]
  },
  {
   "cell_type": "code",
   "execution_count": 1,
   "metadata": {
    "collapsed": true
   },
   "outputs": [],
   "source": [
    "import pandas as pd\n",
    "\n",
    "f = open(\"Delta_LCA.csv\", \"r\")\n",
    "delta_df = pd.read_csv(f, index_col=0)\n",
    "f.close()"
   ]
  },
  {
   "cell_type": "code",
   "execution_count": 2,
   "metadata": {
    "collapsed": false
   },
   "outputs": [
    {
     "name": "stdout",
     "output_type": "stream",
     "text": [
      "LCA_CASE_EMPLOYER_NAME\n",
      "INFOSYS LIMITED                      23759\n",
      "TATA CONSULTANCY SERVICES LIMITED    14080\n",
      "WIPRO LIMITED                         8358\n",
      "DELOITTE CONSULTING LLP               6976\n",
      "ACCENTURE LLP                         5502\n",
      "IBM INDIA PRIVATE LIMITED             4987\n",
      "HCL AMERICA INC                       4741\n",
      "ERNST & YOUNG US LLP                  3954\n",
      "MICROSOFT CORPORATION                 3650\n",
      "IGATE TECHNOLOGIES INC                3124\n",
      "dtype: int64\n"
     ]
    }
   ],
   "source": [
    "grouped_by_company = delta_df.groupby(\"LCA_CASE_EMPLOYER_NAME\")\n",
    "\n",
    "company_applications = grouped_by_company.size().order(ascending=False)\n",
    "\n",
    "top_10_app_companies = company_applications.head(10)\n",
    "\n",
    "top_10_app_company_keys = top_10_app_companies.keys()  # I'll be using this later.\n",
    "\n",
    "print top_10_app_companies"
   ]
  },
  {
   "cell_type": "markdown",
   "metadata": {},
   "source": [
    "IT consultancies take the cake here by a huge margin. Infosys, Tata Consultancy Services, Wipro, HCL America, and IGATE Technologies all primarily provide IT consulting services. Rounding out the top 10 are more general consultancies such as Deloitte and Accenture, an auditing firm (Ernst & Young), and more traditional technology companies (IBM India and Microsoft). I'd like to know what portion of our applicant pool comes from these top 10 companies.\n",
    "\n",
    "Another interesting fact is that five of the top ten companies are based in India (Infosys, Tata, Wipro, IBM India, and HCL). How much of our total applicant pool do these five Indian companies account for? While we're at it, what about just Infosys?"
   ]
  },
  {
   "cell_type": "code",
   "execution_count": 3,
   "metadata": {
    "collapsed": false
   },
   "outputs": [
    {
     "name": "stdout",
     "output_type": "stream",
     "text": [
      "Percent of Pool from Top 10 Companies:  15.8773887012\n",
      "Percent of Pool from Top 5 Indian Companies:  11.2211770749\n",
      "Percent of Pool from Infosys Limited:  4.767169354\n"
     ]
    }
   ],
   "source": [
    "top_10_applicants = delta_df[delta_df[\"LCA_CASE_EMPLOYER_NAME\"].isin(top_10_app_company_keys)]\n",
    "\n",
    "indian_company_list = [\"INFOSYS LIMITED\", \"TATA CONSULTANCY SERVICES LIMITED\", \"WIPRO LIMITED\", \n",
    "                       \"IBM INDIA PRIVATE LIMITED\", \"HCL AMERICA INC\"]\n",
    "\n",
    "indian_applicants = delta_df[delta_df[\"LCA_CASE_EMPLOYER_NAME\"].isin(indian_company_list)]\n",
    "infosys_applicants = delta_df[delta_df[\"LCA_CASE_EMPLOYER_NAME\"] == \"INFOSYS LIMITED\"]\n",
    "\n",
    "print \"Percent of Pool from Top 10 Companies: \", 100* len(top_10_applicants)/float(len(delta_df))\n",
    "print \"Percent of Pool from Top 5 Indian Companies: \", 100 * len(indian_applicants)/float(len(delta_df))\n",
    "print \"Percent of Pool from Infosys Limited: \", 100 * len(infosys_applicants)/float(len(delta_df))"
   ]
  },
  {
   "cell_type": "markdown",
   "metadata": {},
   "source": [
    "That's really interesting. I'd expect a few companies to be responsible for the lion's share of applications, but I'm surprised at how dominant the IT industry and India are. Infosys alone nearly accounts for 5% of applicants.\n",
    "\n",
    "As a quick aside, how do some of our Silicon Valley favorites stack up?"
   ]
  },
  {
   "cell_type": "code",
   "execution_count": 4,
   "metadata": {
    "collapsed": false,
    "scrolled": true
   },
   "outputs": [
    {
     "name": "stdout",
     "output_type": "stream",
     "text": [
      "Google: 3032\n",
      "Apple: 1426\n",
      "Facebook: 728\n",
      "LinkedIn: 374\n"
     ]
    }
   ],
   "source": [
    "google_apps = company_applications[company_applications.keys() == \"GOOGLE INC\"].values[0]\n",
    "apple_apps = company_applications[company_applications.keys() == \"APPLE INC\"].values[0]\n",
    "facebook_apps = company_applications[company_applications.keys() == \"FACEBOOK INC\"].values[0]\n",
    "linkedin_apps = company_applications[company_applications.keys() == \"LINKEDIN CORPORATION\"].values[0]\n",
    "\n",
    "print \"Google:\", google_apps\n",
    "print \"Apple:\", apple_apps\n",
    "print \"Facebook:\", facebook_apps\n",
    "print \"LinkedIn:\", linkedin_apps"
   ]
  },
  {
   "cell_type": "markdown",
   "metadata": {},
   "source": [
    "Google just barely misses being part of the top 10. These are some interesting numbers, given the size of these companies. Let's reevaluate after taking each company's size into account (I'll just source the numbers from wikipedia)."
   ]
  },
  {
   "cell_type": "code",
   "execution_count": 5,
   "metadata": {
    "collapsed": false
   },
   "outputs": [
    {
     "name": "stdout",
     "output_type": "stream",
     "text": [
      "Google Apps per Employee: 0.055\n",
      "Apple Apps per Employee: 0.015\n",
      "Facebook Apps per Employee: 0.072\n",
      "LinkedIn Apps per Employee: 0.055\n"
     ]
    }
   ],
   "source": [
    "google_size = 55419.\n",
    "apple_size = 98000.\n",
    "facebook_size = 10082.\n",
    "linkedin_size = 6800.\n",
    "\n",
    "print \"Google Apps per Employee:\", round(google_apps/google_size, 3)\n",
    "print \"Apple Apps per Employee:\", round(apple_apps/apple_size, 3)\n",
    "print \"Facebook Apps per Employee:\", round(facebook_apps/facebook_size, 3)\n",
    "print \"LinkedIn Apps per Employee:\", round(linkedin_apps/linkedin_size, 3)"
   ]
  },
  {
   "cell_type": "markdown",
   "metadata": {},
   "source": [
    "It looks like Facebook has a greater tendency to hire foreign employees. Remember that they were also one of the best companies in terms of wage delta (i.e. they paid immigrants well in relation to domestic workers in the same state). Google and LinkedIn are hiring at the same rate, but Apple sends out considerably fewer applications relative to the size of the company.\n",
    "\n",
    "While we're at it, let's just take a quick look at our favorite schools."
   ]
  },
  {
   "cell_type": "code",
   "execution_count": 6,
   "metadata": {
    "collapsed": false
   },
   "outputs": [
    {
     "name": "stdout",
     "output_type": "stream",
     "text": [
      "Stanford: [279]\n",
      "UC Berkeley: [128]\n"
     ]
    }
   ],
   "source": [
    "print \"Stanford:\", company_applications[company_applications.keys() == \n",
    "                                           \"THE BOARD OF TRUSTEES OF THE LELAND STANFORD JR\"].values\n",
    "print \"UC Berkeley:\", company_applications[company_applications.keys() == \n",
    "                                           \"UNIVERSITY OF CALIFORNIA BERKELEY\"].values\n",
    "\n",
    "# Berkeley's Lawrence Lab accounts for another 150 or so applicants, \n",
    "# but I decided not to count it as part of the university proper."
   ]
  },
  {
   "cell_type": "markdown",
   "metadata": {},
   "source": [
    "How about applications by state? Let's see where most of these applicants would be working (if their LCA is approved)."
   ]
  },
  {
   "cell_type": "code",
   "execution_count": 7,
   "metadata": {
    "collapsed": false
   },
   "outputs": [
    {
     "name": "stdout",
     "output_type": "stream",
     "text": [
      "STATE\n",
      "CA    95013\n",
      "TX    50286\n",
      "NY    46535\n",
      "NJ    35656\n",
      "IL    26560\n",
      "MA    19105\n",
      "PA    18570\n",
      "GA    17247\n",
      "WA    17077\n",
      "FL    17017\n",
      "VA    14907\n",
      "NC    13158\n",
      "MI    13117\n",
      "OH    13044\n",
      "MD     9109\n",
      "MN     8672\n",
      "CT     8495\n",
      "AZ     7046\n",
      "MO     6024\n",
      "CO     5543\n",
      "WI     5306\n",
      "IN     5175\n",
      "OR     4448\n",
      "TN     4322\n",
      "DC     3460\n",
      "DE     3030\n",
      "IA     2900\n",
      "KS     2325\n",
      "UT     2303\n",
      "AR     2197\n",
      "RI     2177\n",
      "KY     2030\n",
      "SC     1978\n",
      "OK     1716\n",
      "AL     1650\n",
      "LA     1617\n",
      "NH     1609\n",
      "NE     1585\n",
      "NV     1168\n",
      "NM      848\n",
      "ME      635\n",
      "MS      581\n",
      "HI      549\n",
      "ID      477\n",
      "ND      375\n",
      "WV      339\n",
      "VT      320\n",
      "SD      219\n",
      "AK      212\n",
      "GU      206\n",
      "PR      190\n",
      "WY      108\n",
      "MT      103\n",
      "VI       49\n",
      "dtype: int64\n"
     ]
    }
   ],
   "source": [
    "grouped_by_state = delta_df.groupby(\"STATE\")\n",
    "\n",
    "state_applications = grouped_by_state.size().order(ascending=False)\n",
    "\n",
    "print state_applications"
   ]
  },
  {
   "cell_type": "markdown",
   "metadata": {},
   "source": [
    "California certainly seems popular, let's take a closer look."
   ]
  },
  {
   "cell_type": "code",
   "execution_count": 8,
   "metadata": {
    "collapsed": false
   },
   "outputs": [
    {
     "name": "stdout",
     "output_type": "stream",
     "text": [
      "CA Proportion of Applicants: 0.191\n"
     ]
    }
   ],
   "source": [
    "print \"CA Proportion of Applicants:\", round(state_applications[state_applications.keys() \n",
    "                                                               == \"CA\"]/float(len(delta_df)), 3)"
   ]
  },
  {
   "cell_type": "markdown",
   "metadata": {},
   "source": [
    "Although California accounts for 12% of the us population, it accounts for 19% of applicants - nearly a fifth. Perhaps the tech industry has something to do with this? Let's look at applications by industry next."
   ]
  },
  {
   "cell_type": "code",
   "execution_count": 9,
   "metadata": {
    "collapsed": false,
    "scrolled": true
   },
   "outputs": [
    {
     "name": "stdout",
     "output_type": "stream",
     "text": [
      "LCA_CASE_NAICS_CODE\n",
      "541511    194028\n",
      "541512     28120\n",
      "611310     22583\n",
      "541519     11825\n",
      "541510     11140\n",
      "541330     10456\n",
      "5416        8309\n",
      "54161       7442\n",
      "523110      6189\n",
      "54151       6125\n",
      "dtype: int64\n"
     ]
    }
   ],
   "source": [
    "grouped_by_industry = delta_df.groupby(\"LCA_CASE_NAICS_CODE\")\n",
    "\n",
    "industry_applications = grouped_by_industry.size().order(ascending=False)\n",
    "\n",
    "print industry_applications.head(10)"
   ]
  },
  {
   "cell_type": "markdown",
   "metadata": {},
   "source": [
    "Oh yes it does. The top industry is \"Custom Computer Programming Services\". Many of the other top ten are computer related as well. Let's group these into broader categories and take another look."
   ]
  },
  {
   "cell_type": "code",
   "execution_count": 10,
   "metadata": {
    "collapsed": false
   },
   "outputs": [
    {
     "name": "stdout",
     "output_type": "stream",
     "text": [
      "Computer Apps: 251238 - Proportion: 0.504\n",
      "University Apps: 22583 - Proportion: 0.045\n",
      "Engineering Apps: 18765 - Proportion: 0.038\n",
      "Consulting Apps: 7442 - Proportion: 0.015\n",
      "Banking Apps: 6189 - Proportion: 0.012\n",
      "Top 10 Industry Apps: 306217 - Proportion: 0.614\n"
     ]
    }
   ],
   "source": [
    "computer_industries = [541511, 541512, 541519, 541510, 54151]\n",
    "eng_sci_industries = [541330, 5416]\n",
    "universities = [611310]\n",
    "consulting = [54161]\n",
    "investment_banking = [523110]\n",
    "\n",
    "total_applicants = float(len(delta_df))\n",
    "computer_ind_apps = len(delta_df[delta_df[\"LCA_CASE_NAICS_CODE\"].isin(computer_industries)])\n",
    "eng_sci_ind_apps = len(delta_df[delta_df[\"LCA_CASE_NAICS_CODE\"].isin(eng_sci_industries)])\n",
    "university_apps = len(delta_df[delta_df[\"LCA_CASE_NAICS_CODE\"].isin(universities)])\n",
    "consulting_apps = len(delta_df[delta_df[\"LCA_CASE_NAICS_CODE\"].isin(consulting)])\n",
    "banking_apps = len(delta_df[delta_df[\"LCA_CASE_NAICS_CODE\"].isin(investment_banking)])\n",
    "top_10_ind_apps = industry_applications.head(10).sum()\n",
    "\n",
    "print \"Computer Apps:\", computer_ind_apps, \"- Proportion:\", round(computer_ind_apps/total_applicants, 3)\n",
    "print \"University Apps:\", university_apps, \"- Proportion:\", round(university_apps/total_applicants, 3)\n",
    "print \"Engineering Apps:\", eng_sci_ind_apps, \"- Proportion:\", round(eng_sci_ind_apps/total_applicants, 3)\n",
    "print \"Consulting Apps:\", consulting_apps, \"- Proportion:\", round(consulting_apps/total_applicants, 3)\n",
    "print \"Banking Apps:\", banking_apps, \"- Proportion:\", round(banking_apps/total_applicants, 3)\n",
    "print \"Top 10 Industry Apps:\", top_10_ind_apps, \"- Proportion:\", round(top_10_ind_apps/total_applicants, 3)"
   ]
  },
  {
   "cell_type": "markdown",
   "metadata": {},
   "source": [
    "Yeah, tech seems to have something to do with it. Let's take a look at applications by job type - I've got a pretty good guess as to what I'll see."
   ]
  },
  {
   "cell_type": "code",
   "execution_count": 11,
   "metadata": {
    "collapsed": false
   },
   "outputs": [
    {
     "name": "stdout",
     "output_type": "stream",
     "text": [
      "LCA_CASE_SOC_NAME\n",
      "Computer Systems Analysts                      92552\n",
      "Software Developers, Applications              77815\n",
      "Computer Programmers                           72063\n",
      "Computer Occupations, All Other                38736\n",
      "Software Developers, Systems Software          15705\n",
      "Management Analysts                            11470\n",
      "Accountants and Auditors                        9387\n",
      "Financial Analysts                              8903\n",
      "Network and Computer Systems Administrators     8121\n",
      "Mechanical Engineers                            7265\n",
      "dtype: int64\n"
     ]
    }
   ],
   "source": [
    "grouped_by_job = delta_df.groupby(\"LCA_CASE_SOC_NAME\")\n",
    "\n",
    "job_applications = grouped_by_job.size().order(ascending=False)\n",
    "\n",
    "print job_applications.head(10)"
   ]
  },
  {
   "cell_type": "markdown",
   "metadata": {},
   "source": [
    "Exactly as I expected. For a future project, it would be really interesting to run this same analysis on data from previous years and measure the differences in each category."
   ]
  }
 ],
 "metadata": {
  "kernelspec": {
   "display_name": "Python 2",
   "language": "python",
   "name": "python2"
  },
  "language_info": {
   "codemirror_mode": {
    "name": "ipython",
    "version": 2
   },
   "file_extension": ".py",
   "mimetype": "text/x-python",
   "name": "python",
   "nbconvert_exporter": "python",
   "pygments_lexer": "ipython2",
   "version": "2.7.9"
  }
 },
 "nbformat": 4,
 "nbformat_minor": 0
}
